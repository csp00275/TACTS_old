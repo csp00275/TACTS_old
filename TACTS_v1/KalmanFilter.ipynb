{
 "cells": [
  {
   "cell_type": "code",
   "execution_count": 28,
   "id": "74520690",
   "metadata": {},
   "outputs": [],
   "source": [
    "import tensorflow as tf\n",
    "import pandas as pd\n",
    "import math\n",
    "\n",
    "\n",
    "tf.random.set_seed(42)\n",
    "filename = 'D:/ME program/2017-PhD/01_research/02Study/34_ballon_like_cover/DeepLearing/TACTS/TACTS_v1/myData/SensorData56.csv'\n",
    "TofData = pd.read_csv(filename)"
   ]
  },
  {
   "cell_type": "code",
   "execution_count": 29,
   "id": "3b2bc714",
   "metadata": {
    "scrolled": true
   },
   "outputs": [
    {
     "name": "stdout",
     "output_type": "stream",
     "text": [
      "<class 'pandas.core.frame.DataFrame'>\n",
      "RangeIndex: 646 entries, 0 to 645\n",
      "Data columns (total 13 columns):\n",
      " #   Column       Non-Null Count  Dtype  \n",
      "---  ------       --------------  -----  \n",
      " 0   MedB         646 non-null    int64  \n",
      " 1   MedT         646 non-null    int64  \n",
      " 2   MinB         646 non-null    int64  \n",
      " 3   MinT         646 non-null    int64  \n",
      " 4   MaxB         646 non-null    int64  \n",
      " 5   MaxT         646 non-null    int64  \n",
      " 6   MeanB        646 non-null    int64  \n",
      " 7   MeanT        646 non-null    int64  \n",
      " 8   Target       646 non-null    int64  \n",
      " 9   MeanB-T      646 non-null    int64  \n",
      " 10  MeanT-T      646 non-null    int64  \n",
      " 11  MeanB(cali)  646 non-null    float64\n",
      " 12  MeanT(cali)  646 non-null    float64\n",
      "dtypes: float64(2), int64(11)\n",
      "memory usage: 65.7 KB\n"
     ]
    }
   ],
   "source": [
    "TofData.info()"
   ]
  },
  {
   "cell_type": "code",
   "execution_count": 32,
   "id": "7df8762e",
   "metadata": {},
   "outputs": [
    {
     "data": {
      "text/html": [
       "<div>\n",
       "<style scoped>\n",
       "    .dataframe tbody tr th:only-of-type {\n",
       "        vertical-align: middle;\n",
       "    }\n",
       "\n",
       "    .dataframe tbody tr th {\n",
       "        vertical-align: top;\n",
       "    }\n",
       "\n",
       "    .dataframe thead th {\n",
       "        text-align: right;\n",
       "    }\n",
       "</style>\n",
       "<table border=\"1\" class=\"dataframe\">\n",
       "  <thead>\n",
       "    <tr style=\"text-align: right;\">\n",
       "      <th></th>\n",
       "      <th>MedB</th>\n",
       "      <th>MedT</th>\n",
       "      <th>MinB</th>\n",
       "      <th>MinT</th>\n",
       "      <th>MaxB</th>\n",
       "      <th>MaxT</th>\n",
       "      <th>MeanB</th>\n",
       "      <th>MeanT</th>\n",
       "      <th>Target</th>\n",
       "      <th>MeanB-T</th>\n",
       "      <th>MeanT-T</th>\n",
       "      <th>MeanB(cali)</th>\n",
       "      <th>MeanT(cali)</th>\n",
       "    </tr>\n",
       "  </thead>\n",
       "  <tbody>\n",
       "    <tr>\n",
       "      <th>641</th>\n",
       "      <td>87</td>\n",
       "      <td>93</td>\n",
       "      <td>86</td>\n",
       "      <td>92</td>\n",
       "      <td>88</td>\n",
       "      <td>94</td>\n",
       "      <td>87</td>\n",
       "      <td>93</td>\n",
       "      <td>65</td>\n",
       "      <td>22</td>\n",
       "      <td>28</td>\n",
       "      <td>64.696594</td>\n",
       "      <td>65.831269</td>\n",
       "    </tr>\n",
       "    <tr>\n",
       "      <th>642</th>\n",
       "      <td>87</td>\n",
       "      <td>94</td>\n",
       "      <td>86</td>\n",
       "      <td>92</td>\n",
       "      <td>88</td>\n",
       "      <td>94</td>\n",
       "      <td>87</td>\n",
       "      <td>93</td>\n",
       "      <td>65</td>\n",
       "      <td>22</td>\n",
       "      <td>28</td>\n",
       "      <td>64.696594</td>\n",
       "      <td>65.831269</td>\n",
       "    </tr>\n",
       "    <tr>\n",
       "      <th>643</th>\n",
       "      <td>87</td>\n",
       "      <td>94</td>\n",
       "      <td>85</td>\n",
       "      <td>93</td>\n",
       "      <td>88</td>\n",
       "      <td>95</td>\n",
       "      <td>86</td>\n",
       "      <td>94</td>\n",
       "      <td>65</td>\n",
       "      <td>21</td>\n",
       "      <td>29</td>\n",
       "      <td>63.696594</td>\n",
       "      <td>66.831269</td>\n",
       "    </tr>\n",
       "    <tr>\n",
       "      <th>644</th>\n",
       "      <td>87</td>\n",
       "      <td>94</td>\n",
       "      <td>85</td>\n",
       "      <td>94</td>\n",
       "      <td>88</td>\n",
       "      <td>95</td>\n",
       "      <td>86</td>\n",
       "      <td>94</td>\n",
       "      <td>65</td>\n",
       "      <td>21</td>\n",
       "      <td>29</td>\n",
       "      <td>63.696594</td>\n",
       "      <td>66.831269</td>\n",
       "    </tr>\n",
       "    <tr>\n",
       "      <th>645</th>\n",
       "      <td>87</td>\n",
       "      <td>94</td>\n",
       "      <td>85</td>\n",
       "      <td>93</td>\n",
       "      <td>87</td>\n",
       "      <td>95</td>\n",
       "      <td>86</td>\n",
       "      <td>94</td>\n",
       "      <td>65</td>\n",
       "      <td>21</td>\n",
       "      <td>29</td>\n",
       "      <td>63.696594</td>\n",
       "      <td>66.831269</td>\n",
       "    </tr>\n",
       "  </tbody>\n",
       "</table>\n",
       "</div>"
      ],
      "text/plain": [
       "     MedB  MedT  MinB  MinT  MaxB  MaxT  MeanB  MeanT  Target  MeanB-T  \\\n",
       "641    87    93    86    92    88    94     87     93      65       22   \n",
       "642    87    94    86    92    88    94     87     93      65       22   \n",
       "643    87    94    85    93    88    95     86     94      65       21   \n",
       "644    87    94    85    94    88    95     86     94      65       21   \n",
       "645    87    94    85    93    87    95     86     94      65       21   \n",
       "\n",
       "     MeanT-T  MeanB(cali)  MeanT(cali)  \n",
       "641       28    64.696594    65.831269  \n",
       "642       28    64.696594    65.831269  \n",
       "643       29    63.696594    66.831269  \n",
       "644       29    63.696594    66.831269  \n",
       "645       29    63.696594    66.831269  "
      ]
     },
     "execution_count": 32,
     "metadata": {},
     "output_type": "execute_result"
    }
   ],
   "source": [
    "TofData.tail()"
   ]
  },
  {
   "cell_type": "code",
   "execution_count": 40,
   "id": "108770cb",
   "metadata": {},
   "outputs": [
    {
     "name": "stdout",
     "output_type": "stream",
     "text": [
      "표준편차\n",
      " 20: 0.717844374811204\n",
      " 25: 0.7605033758080133\n",
      " 30: 1.0853039276555743\n",
      " 35: 1.3915956530323252\n",
      " 40: 1.1973528494783188\n",
      " 45: 0.9232571939356049\n",
      " 50: 1.2534567587890084\n",
      " 55: 0.995663675066111\n",
      " 60: 0.9565060617444338\n",
      " 65: 0.9400286411348574\n",
      "프로세스 노이즈: 1.0221512511455453\n",
      "프로세스 공분산: 1.0447931802184036\n"
     ]
    }
   ],
   "source": [
    "# 표준편차를 저장할 빈 리스트 생성\n",
    "stds = []\n",
    "\n",
    "# 참조값이 20부터 65까지 반복문 실행\n",
    "for ref_value in range(20, 70, 5):\n",
    "    # 참조값이 ref_value인 행만 필터링\n",
    "    filtered_df = TofData[TofData['Target'] == ref_value]\n",
    "    \n",
    "    # 측정값의 표준편차 계산\n",
    "    std = math.sqrt(filtered_df['MedB'].var())\n",
    "    \n",
    "    # 표준편차를 리스트에 추가\n",
    "    stds.append(std)\n",
    "\n",
    "# 결과 출력\n",
    "print(\"표준편차\")\n",
    "for i, std in enumerate(stds):\n",
    "    ref_value = 20 + i * 5\n",
    "    print(f\" {ref_value}: {std}\")\n",
    "\n",
    "    # 표준편차의 평균 계산\n",
    "mean_std = sum(stds) / len(stds)\n",
    "process_covariance = mean_std*mean_std\n",
    "\n",
    "# 결과 출력\n",
    "print(f\"프로세스 노이즈: {mean_std}\")\n",
    "print(f\"프로세스 공분산: {process_covariance}\")\n"
   ]
  },
  {
   "cell_type": "code",
   "execution_count": 4,
   "id": "a2ce4a6b",
   "metadata": {},
   "outputs": [],
   "source": [
    "import numpy as np\n",
    "X = np.c_[TofData[\"Target\"]]\n",
    "y = np.c_[TofData[\"MeanT\"]]"
   ]
  },
  {
   "cell_type": "code",
   "execution_count": 41,
   "id": "fa99ee9d",
   "metadata": {},
   "outputs": [
    {
     "data": {
      "text/plain": [
       "<AxesSubplot:xlabel='Target', ylabel='MeanB'>"
      ]
     },
     "execution_count": 41,
     "metadata": {},
     "output_type": "execute_result"
    },
    {
     "data": {
      "image/png": "[encoded data removed]",
      "text/plain": [
       "<Figure size 432x288 with 1 Axes>"
      ]
     },
     "metadata": {
      "needs_background": "light"
     },
     "output_type": "display_data"
    }
   ],
   "source": [
    "TofData.plot(kind=\"scatter\", x= \"Target\",y= \"MeanB\",alpha = 0.1,color='green')"
   ]
  },
  {
   "cell_type": "code",
   "execution_count": 42,
   "id": "2959dd50",
   "metadata": {},
   "outputs": [],
   "source": [
    "import sklearn.linear_model\n",
    "from sklearn.model_selection import train_test_split\n",
    "from sklearn.preprocessing import StandardScaler\n",
    "\n",
    "X_train, X_test, y_train, y_test = train_test_split(X, y, test_size = 0.2, random_state=42)"
   ]
  },
  {
   "cell_type": "code",
   "execution_count": 43,
   "id": "3fcb4bd9",
   "metadata": {},
   "outputs": [
    {
     "data": {
      "text/plain": [
       "LinearRegression()"
      ]
     },
     "execution_count": 43,
     "metadata": {},
     "output_type": "execute_result"
    }
   ],
   "source": [
    "model = sklearn.linear_model.LinearRegression(fit_intercept=True)\n",
    "model.fit(X_train,y_train)"
   ]
  },
  {
   "cell_type": "code",
   "execution_count": 44,
   "id": "51378166",
   "metadata": {},
   "outputs": [],
   "source": [
    "y_pred = model.predict(X_test)"
   ]
  },
  {
   "cell_type": "code",
   "execution_count": 48,
   "id": "ecd84b57",
   "metadata": {},
   "outputs": [
    {
     "name": "stdout",
     "output_type": "stream",
     "text": [
      "Coefficients:  [[1.01949437]] \n",
      "Intercept: :  [26.32748675]\n"
     ]
    },
    {
     "data": {
      "text/plain": [
       "<AxesSubplot:xlabel='Target', ylabel='MeanB'>"
      ]
     },
     "execution_count": 48,
     "metadata": {},
     "output_type": "execute_result"
    },
    {
     "data": {
      "image/png": "[encoded data removed]",
      "text/plain": [
       "<Figure size 432x288 with 1 Axes>"
      ]
     },
     "metadata": {
      "needs_background": "light"
     },
     "output_type": "display_data"
    },
    {
     "data": {
      "image/png": "[encoded data removed]",
      "text/plain": [
       "<Figure size 432x288 with 1 Axes>"
      ]
     },
     "metadata": {
      "needs_background": "light"
     },
     "output_type": "display_data"
    }
   ],
   "source": [
    "import matplotlib.pyplot as plt\n",
    "print('Coefficients: ', model.coef_,'\\nIntercept: : ',model.intercept_)\n",
    "plt.scatter(X_test, y_test,  color='red',alpha = 0.1)\n",
    "plt.plot(X_test, y_pred, color='blue', linewidth=1)\n",
    "TofData.plot(kind=\"scatter\", x= \"Target\",y= \"MeanB\",alpha = 0.1,color='green')"
   ]
  },
  {
   "cell_type": "code",
   "execution_count": null,
   "id": "6cf77abc",
   "metadata": {},
   "outputs": [],
   "source": []
  },
  {
   "cell_type": "code",
   "execution_count": null,
   "id": "6d69f071",
   "metadata": {},
   "outputs": [],
   "source": []
  },
  {
   "cell_type": "code",
   "execution_count": null,
   "id": "79a0ba75",
   "metadata": {},
   "outputs": [],
   "source": []
  }
 ],
 "metadata": {
  "kernelspec": {
   "display_name": "Python 3 (ipykernel)",
   "language": "python",
   "name": "python3"
  },
  "language_info": {
   "codemirror_mode": {
    "name": "ipython",
    "version": 3
   },
   "file_extension": ".py",
   "mimetype": "text/x-python",
   "name": "python",
   "nbconvert_exporter": "python",
   "pygments_lexer": "ipython3",
   "version": "3.9.7"
  }
 },
 "nbformat": 4,
 "nbformat_minor": 5
}
