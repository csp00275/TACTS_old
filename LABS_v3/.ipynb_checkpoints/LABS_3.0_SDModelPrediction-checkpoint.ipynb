{
 "cells": [
  {
   "cell_type": "code",
   "execution_count": 2,
   "id": "13699c26",
   "metadata": {},
   "outputs": [],
   "source": [
    "import os\n",
    "import sklearn\n",
    "import pandas as pd\n",
    "import tensorflow as tf\n",
    "from tensorflow.keras import layers\n",
    "import matplotlib.pyplot as plt\n",
    "\n",
    "tf.random.set_seed(42)"
   ]
  },
  {
   "cell_type": "code",
   "execution_count": null,
   "id": "7c9960ba",
   "metadata": {},
   "outputs": [],
   "source": [
    "dataname = "
   ]
  },
  {
   "cell_type": "code",
   "execution_count": null,
   "id": "0a0a742f",
   "metadata": {},
   "outputs": [],
   "source": [
    "model = tf.keras.models.load_model('myModel/'+dataname+'.h5')\n",
    "scaler = load(file_name)\n",
    "valid_predictions = model.predict(X_valid)"
   ]
  },
  {
   "cell_type": "code",
   "execution_count": 3,
   "id": "c4624e43",
   "metadata": {},
   "outputs": [
    {
     "ename": "NameError",
     "evalue": "name 'model' is not defined",
     "output_type": "error",
     "traceback": [
      "\u001b[1;31m---------------------------------------------------------------------------\u001b[0m",
      "\u001b[1;31mNameError\u001b[0m                                 Traceback (most recent call last)",
      "\u001b[1;32m<ipython-input-3-14f5e81e569a>\u001b[0m in \u001b[0;36m<module>\u001b[1;34m\u001b[0m\n\u001b[0;32m      1\u001b[0m \u001b[1;32mimport\u001b[0m \u001b[0mtime\u001b[0m\u001b[1;33m\u001b[0m\u001b[1;33m\u001b[0m\u001b[0m\n\u001b[0;32m      2\u001b[0m \u001b[0mPrev_time\u001b[0m \u001b[1;33m=\u001b[0m \u001b[0mtime\u001b[0m\u001b[1;33m.\u001b[0m\u001b[0mtime\u001b[0m\u001b[1;33m(\u001b[0m\u001b[1;33m)\u001b[0m\u001b[1;33m\u001b[0m\u001b[1;33m\u001b[0m\u001b[0m\n\u001b[1;32m----> 3\u001b[1;33m \u001b[0mtest_predictions\u001b[0m \u001b[1;33m=\u001b[0m \u001b[0mmodel\u001b[0m\u001b[1;33m.\u001b[0m\u001b[0mpredict\u001b[0m\u001b[1;33m(\u001b[0m\u001b[0mX_test\u001b[0m\u001b[1;33m)\u001b[0m\u001b[1;33m\u001b[0m\u001b[1;33m\u001b[0m\u001b[0m\n\u001b[0m\u001b[0;32m      4\u001b[0m \u001b[0mcal_time\u001b[0m \u001b[1;33m=\u001b[0m \u001b[0mround\u001b[0m\u001b[1;33m(\u001b[0m\u001b[1;33m(\u001b[0m\u001b[0mtime\u001b[0m\u001b[1;33m.\u001b[0m\u001b[0mtime\u001b[0m\u001b[1;33m(\u001b[0m\u001b[1;33m)\u001b[0m\u001b[1;33m-\u001b[0m\u001b[0mPrev_time\u001b[0m\u001b[1;33m)\u001b[0m\u001b[1;33m*\u001b[0m\u001b[1;36m1000\u001b[0m\u001b[1;33m,\u001b[0m\u001b[1;36m2\u001b[0m\u001b[1;33m)\u001b[0m\u001b[1;33m\u001b[0m\u001b[1;33m\u001b[0m\u001b[0m\n\u001b[0;32m      5\u001b[0m \u001b[0mprint\u001b[0m\u001b[1;33m(\u001b[0m\u001b[0mcal_time\u001b[0m\u001b[1;33m,\u001b[0m\u001b[1;34m'ms'\u001b[0m\u001b[1;33m)\u001b[0m\u001b[1;33m\u001b[0m\u001b[1;33m\u001b[0m\u001b[0m\n",
      "\u001b[1;31mNameError\u001b[0m: name 'model' is not defined"
     ]
    }
   ],
   "source": [
    "import time\n",
    "Prev_time = time.time()\n",
    "test_predictions = model.predict(X_test)\n",
    "cal_time = round((time.time()-Prev_time)*1000,2)\n",
    "print(cal_time,'ms')"
   ]
  },
  {
   "cell_type": "code",
   "execution_count": null,
   "id": "88f5eaf5",
   "metadata": {},
   "outputs": [],
   "source": [
    "valid_predictions_df=pd.DataFrame(valid_predictions)\n",
    "#valid_predictions_df.columns = [\"valid_z\",\"valid_cos\",\"valid_sin\"]\n",
    "valid_predictions_df.columns = [\"valid_r\",\"valid_theta\",\"valid_z\"]\n",
    "#valid_predictions_df.columns = [\"valid_cos\",\"valid_sin\"]\n",
    "#valid_predictions_df.columns = [\"valid_z\"]\n",
    "#valid_predictions_df.columns = [\"valid_theta\"]\n",
    "\n",
    "\n",
    "valid_predictions_df"
   ]
  },
  {
   "cell_type": "code",
   "execution_count": null,
   "id": "598e51c0",
   "metadata": {},
   "outputs": [],
   "source": [
    "k= y_valid.to_numpy()\n",
    "k_df = pd.DataFrame(k)\n",
    "#k_df.columns  = [\"z\",\"cos\",\"sin\"]\n",
    "k_df.columns = [\"r\",\"theta_enc\",\"z\"]\n",
    "#k_df.columns  = [\"cos\",\"sin\"]\n",
    "#k_df.columns  = [\"z\"]\n",
    "#k_df.columns  = [\"theta_enc\"]\n",
    "k_df"
   ]
  },
  {
   "cell_type": "code",
   "execution_count": null,
   "id": "894a3aa1",
   "metadata": {},
   "outputs": [],
   "source": [
    "ValidPre = pd.concat( [k_df,valid_predictions_df],axis=1)\n",
    "ValidPre.head(5)\n",
    "corr = ValidPre.corr()\n",
    "print(\"corr\")\n",
    "for i in range(0,3):    \n",
    "    print(format(corr[valid_predictions_df.columns[i]][k_df.columns[i]]*100,'.2f')+'%',k_df.columns[i])\n",
    "corr"
   ]
  },
  {
   "cell_type": "code",
   "execution_count": null,
   "id": "b927fa11",
   "metadata": {},
   "outputs": [],
   "source": [
    "ValidPre.plot(kind=\"scatter\", x= \"r\",y= \"valid_r\",alpha = 0.1)\n",
    "ValidPre.plot(kind=\"scatter\", x= \"theta_enc\",y= \"valid_theta\",alpha = 0.1)\n",
    "ValidPre.plot(kind=\"scatter\", x= \"z\",y= \"valid_z\",alpha = 0.1)\n",
    "#alidPre.plot(kind=\"scatter\", x= \"cos\",y= \"valid_cos\",alpha = 0.1)\n",
    "#alidPre.plot(kind=\"scatter\", x= \"sin\",y= \"valid_sin\",alpha = 0.1)\n",
    "#plt.savefig('D:/ME program/2017-PhD/01_research/02Study/34_ballon_like_cover/DeepLearing/SensorCallbi/LABS_v3/savefig/210903_70ms_3ea_sin.png')"
   ]
  }
 ],
 "metadata": {
  "kernelspec": {
   "display_name": "Python 3",
   "language": "python",
   "name": "python3"
  },
  "language_info": {
   "codemirror_mode": {
    "name": "ipython",
    "version": 3
   },
   "file_extension": ".py",
   "mimetype": "text/x-python",
   "name": "python",
   "nbconvert_exporter": "python",
   "pygments_lexer": "ipython3",
   "version": "3.8.8"
  }
 },
 "nbformat": 4,
 "nbformat_minor": 5
}
