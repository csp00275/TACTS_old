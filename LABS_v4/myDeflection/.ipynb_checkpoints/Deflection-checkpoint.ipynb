{
 "cells": [
  {
   "cell_type": "code",
   "execution_count": 9,
   "id": "162b69ac",
   "metadata": {},
   "outputs": [],
   "source": [
    "import numpy as np\n",
    "import matplotlib.pyplot as plt\n",
    "import matplotlib"
   ]
  },
  {
   "cell_type": "code",
   "execution_count": 16,
   "id": "749a7520",
   "metadata": {},
   "outputs": [],
   "source": [
    "#line A-B\n",
    "R = 110\n",
    "n = 100\n",
    "L = 160\n",
    "\n",
    "ABx =[0]*n\n",
    "ABy = list(np.arange(0,R,R/n))\n",
    "\n",
    "BCx = list(np.arange(0,L+1,(L+1)/n))\n",
    "BCy = [110]*n\n",
    "\n",
    "CDx = [L]*n\n",
    "CDy = list(np.arange(0,R,R/n))"
   ]
  },
  {
   "cell_type": "code",
   "execution_count": 11,
   "id": "81bbd3c0",
   "metadata": {},
   "outputs": [
    {
     "name": "stdout",
     "output_type": "stream",
     "text": [
      "ListLength ABx : 100     ABy : 100     CDx : 100     CDy : 100\n"
     ]
    }
   ],
   "source": [
    "print(\"ListLength\",\"ABx :\",len(ABx),\"    ABy :\",len(ABy), \"    CDx :\", len(CDx), \"    CDy :\", len(CDy))"
   ]
  },
  {
   "cell_type": "code",
   "execution_count": 12,
   "id": "31dfadf9",
   "metadata": {
    "scrolled": true
   },
   "outputs": [
    {
     "data": {
      "image/png": "[encoded data removed]",
      "text/plain": [
       "<Figure size 432x288 with 1 Axes>"
      ]
     },
     "metadata": {
      "needs_background": "light"
     },
     "output_type": "display_data"
    }
   ],
   "source": [
    "plt.plot(ABx,ABy,color='b')\n",
    "plt.plot(BCx,BCy,color='b')\n",
    "plt.plot(CDx,CDy,color='b')\n",
    "\n",
    "\n",
    "# Force point\n",
    "shp=matplotlib.patches.Circle((60,110), radius=2, color='r')\n",
    "\n",
    "plt.gca().add_patch(shp)\n",
    "plt.show()"
   ]
  },
  {
   "cell_type": "code",
   "execution_count": 22,
   "id": "04b6c6a2",
   "metadata": {},
   "outputs": [
    {
     "data": {
      "image/png": "[encoded data removed]",
      "text/plain": [
       "<Figure size 432x288 with 1 Axes>"
      ]
     },
     "metadata": {
      "needs_background": "light"
     },
     "output_type": "display_data"
    }
   ],
   "source": [
    "E = 60*10**6\n",
    "I = 10*10**6\n",
    "p = 2*10**3\n",
    "Bx = 0\n",
    "\n",
    "\n",
    "x = np.arange(0,110,0.1)\n",
    "plt.plot((Bx*x**3)/(3*E*I)-(p*x**4)/(8*E*I),x,color='b')\n",
    "plt.show()"
   ]
  },
  {
   "cell_type": "markdown",
   "id": "b4d4f708",
   "metadata": {},
   "source": [
    "# 3D Scatter plot"
   ]
  },
  {
   "cell_type": "code",
   "execution_count": null,
   "id": "b4582844",
   "metadata": {},
   "outputs": [],
   "source": [
    "import matplotlib.pyplot as plt\n",
    "import numpy as np\n",
    "\n",
    "fig = plt.figure()\n",
    "ax = fig.gca(projection = '3d')\n",
    "\n",
    "#Make data.\n",
    "\n",
    "n = 100\n",
    "r = list(np.arange(100,210,(110)/n))\n",
    "\n",
    "data = [X,Y,Z]\n",
    "X ="
   ]
  }
 ],
 "metadata": {
  "kernelspec": {
   "display_name": "Python 3 (ipykernel)",
   "language": "python",
   "name": "python3"
  },
  "language_info": {
   "codemirror_mode": {
    "name": "ipython",
    "version": 3
   },
   "file_extension": ".py",
   "mimetype": "text/x-python",
   "name": "python",
   "nbconvert_exporter": "python",
   "pygments_lexer": "ipython3",
   "version": "3.9.7"
  }
 },
 "nbformat": 4,
 "nbformat_minor": 5
}
